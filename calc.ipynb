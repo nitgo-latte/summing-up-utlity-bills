{
 "cells": [
  {
   "cell_type": "markdown",
   "metadata": {},
   "source": [
    "## GAS"
   ]
  },
  {
   "cell_type": "code",
   "execution_count": 2,
   "metadata": {},
   "outputs": [],
   "source": [
    "import pandas as pd\n",
    "import locale\n"
   ]
  },
  {
   "cell_type": "code",
   "execution_count": 5,
   "metadata": {},
   "outputs": [
    {
     "name": "stdout",
     "output_type": "stream",
     "text": [
      "                  TYPE  START DATE    END DATE  USAGE   UNITS     COST  NOTES\n",
      "0  Natural gas billing  2022-09-20  2022-10-05   13.0  therms   $41.39    NaN\n",
      "1  Natural gas billing  2022-10-06  2022-11-04   34.0  therms   $99.46    NaN\n",
      "2  Natural gas billing  2022-11-05  2022-12-07  138.0  therms  $276.28    NaN\n",
      "3  Natural gas billing  2022-12-08  2023-01-06  194.0  therms  $373.23    NaN\n",
      "4  Natural gas billing  2023-01-07  2023-02-06  190.0  therms  $364.18    NaN\n",
      "\n",
      "starting from 2022-09-20 to 2023-09-07\n"
     ]
    }
   ],
   "source": [
    "filename = \"national-grid/ngbk_gas_billing_data_Service 1_2022-09-20_to_2023-09-07.csv\"\n",
    "df = pd.read_csv(filename, header=4, sep=',')\n",
    "print(df.head())\n",
    "\n",
    "start_date = df[\"START DATE\"][0]\n",
    "end_date = df[\"END DATE\"].iloc[-1]\n",
    "print(f'\\nstarting from {start_date} to {end_date}')\n"
   ]
  },
  {
   "cell_type": "code",
   "execution_count": 58,
   "metadata": {},
   "outputs": [
    {
     "name": "stdout",
     "output_type": "stream",
     "text": [
      "Total cost: $2023.64\n"
     ]
    }
   ],
   "source": [
    "costs = df['COST'].apply(lambda x: locale.atof(x.strip('$')))\n",
    "total_cost = costs.sum()\n",
    "print(\"Total cost:\", locale.currency(total_cost))\n"
   ]
  },
  {
   "cell_type": "markdown",
   "metadata": {},
   "source": [
    "#### HINT\n",
    "must remove the last column manually"
   ]
  },
  {
   "cell_type": "code",
   "execution_count": 94,
   "metadata": {},
   "outputs": [
    {
     "data": {
      "text/html": [
       "<div>\n",
       "<style scoped>\n",
       "    .dataframe tbody tr th:only-of-type {\n",
       "        vertical-align: middle;\n",
       "    }\n",
       "\n",
       "    .dataframe tbody tr th {\n",
       "        vertical-align: top;\n",
       "    }\n",
       "\n",
       "    .dataframe thead th {\n",
       "        text-align: right;\n",
       "    }\n",
       "</style>\n",
       "<table border=\"1\" class=\"dataframe\">\n",
       "  <thead>\n",
       "    <tr style=\"text-align: right;\">\n",
       "      <th></th>\n",
       "      <th>Date</th>\n",
       "      <th>Activity</th>\n",
       "      <th>Amount</th>\n",
       "    </tr>\n",
       "  </thead>\n",
       "  <tbody>\n",
       "    <tr>\n",
       "      <th>25</th>\n",
       "      <td>2022-09-18</td>\n",
       "      <td>PREMIUM SERVICE 1HR</td>\n",
       "      <td>$26.13</td>\n",
       "    </tr>\n",
       "    <tr>\n",
       "      <th>24</th>\n",
       "      <td>2022-10-05</td>\n",
       "      <td>GAS CHARGE REGULAR</td>\n",
       "      <td>$21.76</td>\n",
       "    </tr>\n",
       "    <tr>\n",
       "      <th>23</th>\n",
       "      <td>2022-11-06</td>\n",
       "      <td>GAS CHARGE REGULAR</td>\n",
       "      <td>$50.72</td>\n",
       "    </tr>\n",
       "    <tr>\n",
       "      <th>22</th>\n",
       "      <td>2022-11-06</td>\n",
       "      <td>LATE PAYMENT CHARGE</td>\n",
       "      <td>$0.72</td>\n",
       "    </tr>\n",
       "    <tr>\n",
       "      <th>21</th>\n",
       "      <td>2022-12-06</td>\n",
       "      <td>LATE PAYMENT CHARGE</td>\n",
       "      <td>$1.49</td>\n",
       "    </tr>\n",
       "  </tbody>\n",
       "</table>\n",
       "</div>"
      ],
      "text/plain": [
       "         Date             Activity  Amount\n",
       "25 2022-09-18  PREMIUM SERVICE 1HR  $26.13\n",
       "24 2022-10-05   GAS CHARGE REGULAR  $21.76\n",
       "23 2022-11-06   GAS CHARGE REGULAR  $50.72\n",
       "22 2022-11-06  LATE PAYMENT CHARGE   $0.72\n",
       "21 2022-12-06  LATE PAYMENT CHARGE   $1.49"
      ]
     },
     "execution_count": 94,
     "metadata": {},
     "output_type": "execute_result"
    }
   ],
   "source": [
    "filename = \"national-grid/unit1/acts.csv\"\n",
    "df = pd.read_csv(filename, sep=',', quotechar='\"', engine='python')\n",
    "df[\"Date\"] = pd.to_datetime(df[\"Date\"])\n",
    "df_sorted = df.sort_values(by=\"Date\", ascending=True)\n",
    "df_sorted.head()\n",
    "start_date = df_sorted[\"Date\"].iloc[0].strftime(\"%Y-%m-%d\")\n",
    "end_date = df_sorted[\"Date\"].iloc[-1].strftime(\"%Y-%m-%d\")\n",
    "df_sorted.head()\n"
   ]
  },
  {
   "cell_type": "code",
   "execution_count": 99,
   "metadata": {},
   "outputs": [
    {
     "name": "stdout",
     "output_type": "stream",
     "text": [
      "spanning from 2022-09-18 to 2023-10-08 => 736.64\n"
     ]
    }
   ],
   "source": [
    "payments = df_sorted.loc[df[\"Activity\"] == \"PAYMENT\", \"Amount\"].str.replace('$', '').astype(float)\n",
    "total = -round(payments.sum(), 2)\n",
    "print(f'spanning from {start_date} to {end_date} => {total}')\n"
   ]
  },
  {
   "cell_type": "markdown",
   "metadata": {},
   "source": [
    "## WATER\n",
    "note: next time download payments history csv instead"
   ]
  },
  {
   "cell_type": "code",
   "execution_count": 103,
   "metadata": {},
   "outputs": [
    {
     "data": {
      "text/html": [
       "<div>\n",
       "<style scoped>\n",
       "    .dataframe tbody tr th:only-of-type {\n",
       "        vertical-align: middle;\n",
       "    }\n",
       "\n",
       "    .dataframe tbody tr th {\n",
       "        vertical-align: top;\n",
       "    }\n",
       "\n",
       "    .dataframe thead th {\n",
       "        text-align: right;\n",
       "    }\n",
       "</style>\n",
       "<table border=\"1\" class=\"dataframe\">\n",
       "  <thead>\n",
       "    <tr style=\"text-align: right;\">\n",
       "      <th></th>\n",
       "      <th>Date</th>\n",
       "      <th>Opening Balance</th>\n",
       "      <th>Payments</th>\n",
       "      <th>New Charges</th>\n",
       "      <th>Amount Due</th>\n",
       "    </tr>\n",
       "  </thead>\n",
       "  <tbody>\n",
       "    <tr>\n",
       "      <th>4</th>\n",
       "      <td>2022-09-20</td>\n",
       "      <td>174.05</td>\n",
       "      <td>0.00</td>\n",
       "      <td>70.69</td>\n",
       "      <td>244.74</td>\n",
       "    </tr>\n",
       "    <tr>\n",
       "      <th>3</th>\n",
       "      <td>2022-11-23</td>\n",
       "      <td>244.74</td>\n",
       "      <td>-244.74</td>\n",
       "      <td>167.06</td>\n",
       "      <td>167.06</td>\n",
       "    </tr>\n",
       "    <tr>\n",
       "      <th>2</th>\n",
       "      <td>2023-02-23</td>\n",
       "      <td>167.06</td>\n",
       "      <td>-167.06</td>\n",
       "      <td>222.74</td>\n",
       "      <td>222.74</td>\n",
       "    </tr>\n",
       "    <tr>\n",
       "      <th>1</th>\n",
       "      <td>2023-05-24</td>\n",
       "      <td>222.74</td>\n",
       "      <td>-222.74</td>\n",
       "      <td>300.70</td>\n",
       "      <td>300.70</td>\n",
       "    </tr>\n",
       "    <tr>\n",
       "      <th>0</th>\n",
       "      <td>2023-08-24</td>\n",
       "      <td>300.70</td>\n",
       "      <td>-300.70</td>\n",
       "      <td>420.93</td>\n",
       "      <td>420.93</td>\n",
       "    </tr>\n",
       "  </tbody>\n",
       "</table>\n",
       "</div>"
      ],
      "text/plain": [
       "        Date  Opening Balance  Payments  New Charges  Amount Due\n",
       "4 2022-09-20           174.05      0.00        70.69      244.74\n",
       "3 2022-11-23           244.74   -244.74       167.06      167.06\n",
       "2 2023-02-23           167.06   -167.06       222.74      222.74\n",
       "1 2023-05-24           222.74   -222.74       300.70      300.70\n",
       "0 2023-08-24           300.70   -300.70       420.93      420.93"
      ]
     },
     "execution_count": 103,
     "metadata": {},
     "output_type": "execute_result"
    }
   ],
   "source": [
    "filename = \"dep-water/2022-2023.csv\"\n",
    "df = pd.read_csv(filename, sep=',', quotechar='\"', engine='python')\n",
    "df[\"Date Issued\"] = pd.to_datetime(df[\"Date Issued\"])\n",
    "df = df.rename(columns={'Date Issued': 'Date'})\n",
    "df_sorted = df.sort_values(by=\"Date\", ascending=True)\n",
    "df_sorted.head()\n",
    "start_date = df_sorted[\"Date\"].iloc[0].strftime(\"%Y-%m-%d\")\n",
    "end_date = df_sorted[\"Date\"].iloc[-1].strftime(\"%Y-%m-%d\")\n",
    "df_sorted.head()\n"
   ]
  },
  {
   "cell_type": "code",
   "execution_count": 105,
   "metadata": {},
   "outputs": [
    {
     "name": "stdout",
     "output_type": "stream",
     "text": [
      "spanning from 2022-09-20 to 2023-08-24 => 935.24\n"
     ]
    }
   ],
   "source": [
    "payments = df_sorted[\"Payments\"].replace('$', '').astype(float)\n",
    "total = -round(payments.sum(), 2)\n",
    "print(f'spanning from {start_date} to {end_date} => {total}')\n"
   ]
  },
  {
   "cell_type": "code",
   "execution_count": null,
   "metadata": {},
   "outputs": [],
   "source": []
  }
 ],
 "metadata": {
  "kernelspec": {
   "display_name": "excel-work",
   "language": "python",
   "name": "python3"
  },
  "language_info": {
   "codemirror_mode": {
    "name": "ipython",
    "version": 3
   },
   "file_extension": ".py",
   "mimetype": "text/x-python",
   "name": "python",
   "nbconvert_exporter": "python",
   "pygments_lexer": "ipython3",
   "version": "3.9.16"
  }
 },
 "nbformat": 4,
 "nbformat_minor": 2
}
